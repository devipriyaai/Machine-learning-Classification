{
 "cells": [
  {
   "cell_type": "code",
   "execution_count": 1,
   "id": "ed273bae-5b92-4c1e-a041-4feb6cc542f5",
   "metadata": {},
   "outputs": [],
   "source": [
    "import pickle"
   ]
  },
  {
   "cell_type": "code",
   "execution_count": 2,
   "id": "da112645-482e-4e1f-ba4d-725e1a1f97ba",
   "metadata": {},
   "outputs": [],
   "source": [
    "filename=\"finalaized_model_Random Forest.sav\""
   ]
  },
  {
   "cell_type": "code",
   "execution_count": 6,
   "id": "e5979f65-cbba-4906-97d1-f0ee6e6db320",
   "metadata": {},
   "outputs": [],
   "source": [
    "loaded_model=pickle.load(open(\"finalaized_model_Random Forest.sav\",'rb'))"
   ]
  },
  {
   "cell_type": "code",
   "execution_count": 8,
   "id": "802071ce-267e-4818-af51-9669b6726e5f",
   "metadata": {},
   "outputs": [
    {
     "name": "stderr",
     "output_type": "stream",
     "text": [
      "C:\\Anaconda3\\Lib\\site-packages\\sklearn\\utils\\validation.py:2739: UserWarning: X does not have valid feature names, but RandomForestClassifier was fitted with feature names\n",
      "  warnings.warn(\n"
     ]
    }
   ],
   "source": [
    "result=loaded_model.predict([[110,342,260]])"
   ]
  },
  {
   "cell_type": "code",
   "execution_count": 11,
   "id": "d2fdea3d-30c0-4410-b713-8b3b9cd4a5e6",
   "metadata": {},
   "outputs": [
    {
     "data": {
      "text/plain": [
       "array([1], dtype=int64)"
      ]
     },
     "execution_count": 11,
     "metadata": {},
     "output_type": "execute_result"
    }
   ],
   "source": [
    "result"
   ]
  },
  {
   "cell_type": "code",
   "execution_count": null,
   "id": "5c253c55-4a54-4404-9bda-346ff68a4cbc",
   "metadata": {},
   "outputs": [],
   "source": []
  }
 ],
 "metadata": {
  "kernelspec": {
   "display_name": "Python [conda env:base] *",
   "language": "python",
   "name": "conda-base-py"
  },
  "language_info": {
   "codemirror_mode": {
    "name": "ipython",
    "version": 3
   },
   "file_extension": ".py",
   "mimetype": "text/x-python",
   "name": "python",
   "nbconvert_exporter": "python",
   "pygments_lexer": "ipython3",
   "version": "3.12.7"
  }
 },
 "nbformat": 4,
 "nbformat_minor": 5
}
