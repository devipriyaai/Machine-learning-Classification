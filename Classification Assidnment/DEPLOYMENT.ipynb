{
 "cells": [
  {
   "cell_type": "code",
   "execution_count": 1,
   "id": "80e8e19b-3ac3-4dde-8522-555cdecc2871",
   "metadata": {},
   "outputs": [],
   "source": [
    "import pickle"
   ]
  },
  {
   "cell_type": "code",
   "execution_count": 3,
   "id": "29fe7261-812f-423e-9fc4-46de245ecbfb",
   "metadata": {},
   "outputs": [],
   "source": [
    "filename=\"finalaized_model_LogisticClassifier-Grid.sav\""
   ]
  },
  {
   "cell_type": "code",
   "execution_count": 7,
   "id": "49616283-3391-4a98-a06f-d734ac0e7c6d",
   "metadata": {},
   "outputs": [],
   "source": [
    "loaded_model=pickle.load(open(\"finalaized_model_LogisticClassifier-Grid.sav\",'rb'))"
   ]
  },
  {
   "cell_type": "code",
   "execution_count": 8,
   "id": "d7e37105-8d35-4847-b558-f447aa7c83b4",
   "metadata": {},
   "outputs": [],
   "source": [
    "result=loaded_model.predict([[45,120,2,1,150,40,1.5,135,4.2,1.8,42,7500,4.9,0,1,1,0,0,0,1,0,0,1,1,0,1,1]])"
   ]
  },
  {
   "cell_type": "code",
   "execution_count": 11,
   "id": "96ecf284-b3e7-4089-8e91-a971aa356e00",
   "metadata": {},
   "outputs": [
    {
     "data": {
      "text/plain": [
       "array([0])"
      ]
     },
     "execution_count": 11,
     "metadata": {},
     "output_type": "execute_result"
    }
   ],
   "source": [
    "result"
   ]
  },
  {
   "cell_type": "code",
   "execution_count": null,
   "id": "d20a416c-123c-4ae4-a902-54f80bd2b0a4",
   "metadata": {},
   "outputs": [],
   "source": []
  }
 ],
 "metadata": {
  "kernelspec": {
   "display_name": "Python [conda env:base] *",
   "language": "python",
   "name": "conda-base-py"
  },
  "language_info": {
   "codemirror_mode": {
    "name": "ipython",
    "version": 3
   },
   "file_extension": ".py",
   "mimetype": "text/x-python",
   "name": "python",
   "nbconvert_exporter": "python",
   "pygments_lexer": "ipython3",
   "version": "3.12.7"
  }
 },
 "nbformat": 4,
 "nbformat_minor": 5
}
